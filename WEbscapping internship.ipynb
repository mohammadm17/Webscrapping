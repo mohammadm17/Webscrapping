{
 "cells": [
  {
   "cell_type": "code",
   "execution_count": 3,
   "id": "64680873",
   "metadata": {},
   "outputs": [
    {
     "name": "stderr",
     "output_type": "stream",
     "text": [
      "[WDM] - Downloading:   0%|                                                                 | 0.00/2.96k [00:00<?, ?B/s]<ipython-input-3-e901ce15c144>:7: DeprecationWarning: executable_path has been deprecated, please pass in a Service object\n",
      "  driver = webdriver.Firefox(executable_path=GeckoDriverManager().install())\n"
     ]
    }
   ],
   "source": [
    "from bs4 import BeautifulSoup as bs\n",
    "import selenium\n",
    "from selenium import webdriver\n",
    "from webdriver_manager.firefox import GeckoDriverManager\n",
    "from selenium.webdriver.common.by import By\n",
    "from selenium.webdriver.support.ui import WebDriverWait\n",
    "driver = webdriver.Firefox(executable_path=GeckoDriverManager().install())\n",
    "import time"
   ]
  },
  {
   "cell_type": "code",
   "execution_count": 5,
   "id": "02e2d3e4",
   "metadata": {},
   "outputs": [],
   "source": [
    "driver.get(url)"
   ]
  },
  {
   "cell_type": "code",
   "execution_count": 6,
   "id": "02fd72ed",
   "metadata": {},
   "outputs": [],
   "source": [
    "url1 = 'https://www.careerguide.com/career-options'"
   ]
  },
  {
   "cell_type": "code",
   "execution_count": 10,
   "id": "8bdda0e5",
   "metadata": {},
   "outputs": [],
   "source": [
    "driver.get(url1)"
   ]
  },
  {
   "cell_type": "code",
   "execution_count": null,
   "id": "9116cd5c",
   "metadata": {},
   "outputs": [],
   "source": [
    "a122 = driver.find_element(By.CLASS_NAME, 'c-body').text"
   ]
  },
  {
   "cell_type": "code",
   "execution_count": 114,
   "id": "71d730a5",
   "metadata": {},
   "outputs": [],
   "source": [
    "new_jobs = a122.split(\"\\n\")"
   ]
  },
  {
   "cell_type": "code",
   "execution_count": 226,
   "id": "e8f095f4",
   "metadata": {},
   "outputs": [],
   "source": [
    "\n",
    "driver.get(\"https://www.linkedin.com/jobs/search/?alertAction=viewjobs&currentJobId=3307738523&geoId=106164952&location=Mumbai%2C%20Maharashtra%2C%20India&refresh=true\")"
   ]
  },
  {
   "cell_type": "code",
   "execution_count": 125,
   "id": "be3bee7c",
   "metadata": {},
   "outputs": [],
   "source": [
    "from selenium.webdriver.common.keys import Keys\n",
    "from time import sleep, strftime"
   ]
  },
  {
   "cell_type": "code",
   "execution_count": 227,
   "id": "28c3ecdd",
   "metadata": {},
   "outputs": [],
   "source": [
    "input = driver.find_element(By.XPATH,\"/html/body/div[1]/header/nav/section/section[2]/form/section[1]/input\")\n",
    "     "
   ]
  },
  {
   "cell_type": "code",
   "execution_count": 228,
   "id": "f2f657a3",
   "metadata": {},
   "outputs": [],
   "source": [
    "input.send_keys(\"Engineer\")"
   ]
  },
  {
   "cell_type": "code",
   "execution_count": 229,
   "id": "f8d3aee9",
   "metadata": {},
   "outputs": [],
   "source": [
    "input.send_keys(Keys.ENTER)"
   ]
  },
  {
   "cell_type": "code",
   "execution_count": 287,
   "id": "0a33bf36",
   "metadata": {},
   "outputs": [],
   "source": [
    "new1 = driver.find_elements(By.XPATH,\"/html/body/div[1]/div/main/section[2]/ul/li[2]/div/a\")"
   ]
  },
  {
   "cell_type": "code",
   "execution_count": 320,
   "id": "59bb2241",
   "metadata": {},
   "outputs": [],
   "source": [
    "new11 = driver.find_elements(By.XPATH,'/html/body/div[1]/div/main/section[2]')"
   ]
  },
  {
   "cell_type": "code",
   "execution_count": 357,
   "id": "9f472ff7",
   "metadata": {
    "scrolled": true
   },
   "outputs": [],
   "source": [
    "a = soup.get_text()\n",
    "new_listt = a.split(\"\\n\")"
   ]
  },
  {
   "cell_type": "code",
   "execution_count": 363,
   "id": "f3bf566e",
   "metadata": {},
   "outputs": [],
   "source": [
    "res = []\n",
    "for ele in new_listt:\n",
    "    if ele.strip():\n",
    "        res.append(ele)"
   ]
  },
  {
   "cell_type": "code",
   "execution_count": 370,
   "id": "999a27b7",
   "metadata": {
    "collapsed": true
   },
   "outputs": [
    {
     "data": {
      "text/plain": [
       "['        ENGINEER - MAINTENANCE / DOCUMENTATION.',\n",
       " '        ENGINEER - MAINTENANCE / DOCUMENTATION.',\n",
       " '            Oil and Gas',\n",
       " '            Mumbai, Maharashtra, India',\n",
       " '         Actively Hiring',\n",
       " '    2 weeks ago',\n",
       " '        MAINTENANCE ENGINEER',\n",
       " '        MAINTENANCE ENGINEER',\n",
       " '            Auchtel Products Ltd. (Formerly Henkel Chemicals (India) Ltd',\n",
       " '            Mumbai, Maharashtra, India',\n",
       " '    1 month ago',\n",
       " '        JUNIOR PRODUCTION ENGINEER',\n",
       " '        JUNIOR PRODUCTION ENGINEER',\n",
       " '            King Metal Works',\n",
       " '            Mumbai, Maharashtra, India',\n",
       " '    1 month ago',\n",
       " '        Project Engineer',\n",
       " '        Project Engineer',\n",
       " '            Taurus Contractors Pvt Ltd',\n",
       " '            Mumbai, Maharashtra, India',\n",
       " '    2 months ago',\n",
       " '        Instrumentation Engineer',\n",
       " '        Instrumentation Engineer',\n",
       " '            Brunel',\n",
       " '            Mumbai, Maharashtra, India',\n",
       " '         Be an early applicant',\n",
       " '    3 weeks ago',\n",
       " '        Fresher Mechanical Engineer',\n",
       " '        Fresher Mechanical Engineer',\n",
       " '            Spirale HR Solutions Pvt Ltd',\n",
       " '            Mumbai, Maharashtra, India',\n",
       " '         Actively Hiring',\n",
       " '    3 days ago',\n",
       " '        Mechanical Engineer',\n",
       " '        Mechanical Engineer',\n",
       " '            ATAGO INDIA Instruments Pvt Ltd',\n",
       " '            Mumbai, Maharashtra, India',\n",
       " '    5 days ago',\n",
       " '        Service Engineer',\n",
       " '        Service Engineer',\n",
       " '            Ambetronics Engineers Pvt. Ltd.',\n",
       " '            Mumbai, Maharashtra, India',\n",
       " '    1 month ago',\n",
       " '        Electronics Engineer- Production Department',\n",
       " '        Electronics Engineer- Production Department',\n",
       " '            Ambetronics Engineers Pvt. Ltd.',\n",
       " '            Mumbai, Maharashtra, India',\n",
       " '    1 month ago',\n",
       " '        Mechanical Engineer',\n",
       " '        Mechanical Engineer',\n",
       " '            iSTEP TECHNOLOGY [Towards Empowerment]',\n",
       " '            Mumbai, Maharashtra, India',\n",
       " '    3 weeks ago',\n",
       " '        Planning Engineer',\n",
       " '        Planning Engineer',\n",
       " '            Taurus Contractors Pvt Ltd',\n",
       " '            Mumbai, Maharashtra, India',\n",
       " '    2 weeks ago',\n",
       " '        Planning Engineer',\n",
       " '        Planning Engineer',\n",
       " '            Taurus Contractors Pvt Ltd',\n",
       " '            Mumbai, Maharashtra, India',\n",
       " '    1 week ago',\n",
       " '        Service Engineer',\n",
       " '        Service Engineer',\n",
       " '            Sparkle Clean Tech Pvt. Ltd.',\n",
       " '            Mumbai, Maharashtra, India',\n",
       " '         Be an early applicant',\n",
       " '    1 month ago',\n",
       " '        Technician/Jr. Engineer Incoming Quality Control',\n",
       " '        Technician/Jr. Engineer Incoming Quality Control',\n",
       " '            Ambetronics Engineers Pvt. Ltd.',\n",
       " '            Mumbai, Maharashtra, India',\n",
       " '         Be an early applicant',\n",
       " '    1 month ago',\n",
       " '        Process Engineer',\n",
       " '        Process Engineer',\n",
       " '            Taurus Contractors Pvt Ltd',\n",
       " '            Mumbai, Maharashtra, India',\n",
       " '    2 months ago',\n",
       " '        Process Engineer',\n",
       " '        Process Engineer',\n",
       " '            Taurus Contractors Pvt Ltd',\n",
       " '            Mumbai, Maharashtra, India',\n",
       " '    2 months ago',\n",
       " '        Electrical Engineer - Construction',\n",
       " '        Electrical Engineer - Construction',\n",
       " '            thyssenkrupp',\n",
       " '            Mumbai, Maharashtra, India',\n",
       " '         Actively Hiring',\n",
       " '    1 month ago',\n",
       " '        Application Engineer',\n",
       " '        Application Engineer',\n",
       " '            ION Energy',\n",
       " '            Mumbai, Maharashtra, India',\n",
       " '    1 month ago',\n",
       " '        Mechanical Engineer',\n",
       " '        Mechanical Engineer',\n",
       " '            ideaForge',\n",
       " '            Mumbai, Maharashtra, India',\n",
       " '         Actively Hiring',\n",
       " '    1 week ago',\n",
       " '        Project Engineer',\n",
       " '        Project Engineer',\n",
       " '            Centre for Development of Advanced Computing (C-DAC)',\n",
       " '            Mumbai, Maharashtra, India',\n",
       " '         Be an early applicant',\n",
       " '    3 weeks ago',\n",
       " '        Project Control Engineer (Offshore)',\n",
       " '        Project Control Engineer (Offshore)',\n",
       " '            Taurus Contractors Pvt Ltd',\n",
       " '            Mumbai, Maharashtra, India',\n",
       " '    2 months ago',\n",
       " '        Electrician and Installation Engineer',\n",
       " '        Electrician and Installation Engineer',\n",
       " '            WayCool Foods',\n",
       " '            Mumbai, Maharashtra, India',\n",
       " '         Actively Hiring',\n",
       " '    1 month ago',\n",
       " '        Testing and Validation Engineer',\n",
       " '        Testing and Validation Engineer',\n",
       " '            Gegadyne Energy',\n",
       " '            Mumbai, Maharashtra, India',\n",
       " '    1 month ago',\n",
       " '        MAINTAINENCE ENGINEERS PUMPS & COMPRESSORS',\n",
       " '        MAINTAINENCE ENGINEERS PUMPS & COMPRESSORS',\n",
       " '            Oil and Gas',\n",
       " '            Mumbai, Maharashtra, India',\n",
       " '         Actively Hiring',\n",
       " '    3 weeks ago',\n",
       " '        Mechanical Rotating Engineer',\n",
       " '        Mechanical Rotating Engineer',\n",
       " '            Taurus Contractors Pvt Ltd',\n",
       " '            Mumbai, Maharashtra, India',\n",
       " '    2 weeks ago',\n",
       " '                See more jobs',\n",
       " \"        You've viewed all jobs for this search\"]"
      ]
     },
     "execution_count": 370,
     "metadata": {},
     "output_type": "execute_result"
    }
   ],
   "source": [
    "res\n"
   ]
  },
  {
   "cell_type": "code",
   "execution_count": 250,
   "id": "03300d0c",
   "metadata": {},
   "outputs": [],
   "source": [
    "company_name= job[1::2]"
   ]
  },
  {
   "cell_type": "code",
   "execution_count": 371,
   "id": "26a229a8",
   "metadata": {
    "scrolled": true
   },
   "outputs": [
    {
     "data": {
      "text/plain": [
       "['Oil and Gas',\n",
       " 'Auchtel Products Ltd. (Formerly Henkel Chemicals (India) Ltd',\n",
       " 'King Metal Works',\n",
       " 'Taurus Contractors Pvt Ltd',\n",
       " 'Brunel',\n",
       " 'Spirale HR Solutions Pvt Ltd',\n",
       " 'ATAGO INDIA Instruments Pvt Ltd',\n",
       " 'Ambetronics Engineers Pvt. Ltd.',\n",
       " 'Ambetronics Engineers Pvt. Ltd.',\n",
       " 'iSTEP TECHNOLOGY [Towards Empowerment]',\n",
       " 'Taurus Contractors Pvt Ltd',\n",
       " 'Taurus Contractors Pvt Ltd',\n",
       " 'Sparkle Clean Tech Pvt. Ltd.',\n",
       " 'Ambetronics Engineers Pvt. Ltd.',\n",
       " 'Taurus Contractors Pvt Ltd',\n",
       " 'Taurus Contractors Pvt Ltd',\n",
       " 'thyssenkrupp',\n",
       " 'ION Energy',\n",
       " 'ideaForge',\n",
       " 'Centre for Development of Advanced Computing (C-DAC)',\n",
       " 'Taurus Contractors Pvt Ltd',\n",
       " 'WayCool Foods',\n",
       " 'Gegadyne Energy',\n",
       " 'Oil and Gas',\n",
       " 'Taurus Contractors Pvt Ltd']"
      ]
     },
     "execution_count": 371,
     "metadata": {},
     "output_type": "execute_result"
    }
   ],
   "source": [
    "company_name"
   ]
  },
  {
   "cell_type": "code",
   "execution_count": 251,
   "id": "278ea14e",
   "metadata": {},
   "outputs": [],
   "source": [
    "job_profile = job[0::2]"
   ]
  },
  {
   "cell_type": "code",
   "execution_count": 372,
   "id": "6da025dd",
   "metadata": {},
   "outputs": [
    {
     "data": {
      "text/plain": [
       "['ENGINEER - MAINTENANCE / DOCUMENTATION.',\n",
       " 'MAINTENANCE ENGINEER',\n",
       " 'JUNIOR PRODUCTION ENGINEER',\n",
       " 'Project Engineer',\n",
       " 'Instrumentation Engineer',\n",
       " 'Fresher Mechanical Engineer',\n",
       " 'Mechanical Engineer',\n",
       " 'Service Engineer',\n",
       " 'Electronics Engineer- Production Department',\n",
       " 'Mechanical Engineer',\n",
       " 'Planning Engineer',\n",
       " 'Planning Engineer',\n",
       " 'Service Engineer',\n",
       " 'Technician/Jr. Engineer Incoming Quality Control',\n",
       " 'Process Engineer',\n",
       " 'Process Engineer',\n",
       " 'Electrical Engineer - Construction',\n",
       " 'Application Engineer',\n",
       " 'Mechanical Engineer',\n",
       " 'Project Engineer',\n",
       " 'Project Control Engineer (Offshore)',\n",
       " 'Electrician and Installation Engineer',\n",
       " 'Testing and Validation Engineer',\n",
       " 'MAINTAINENCE ENGINEERS PUMPS & COMPRESSORS',\n",
       " 'Mechanical Rotating Engineer']"
      ]
     },
     "execution_count": 372,
     "metadata": {},
     "output_type": "execute_result"
    }
   ],
   "source": [
    "job_profile"
   ]
  },
  {
   "cell_type": "code",
   "execution_count": 368,
   "id": "a4226b20",
   "metadata": {},
   "outputs": [],
   "source": [
    "href_tags = soup.find_all(href=True)"
   ]
  },
  {
   "cell_type": "code",
   "execution_count": 184,
   "id": "fd7e2c24",
   "metadata": {
    "collapsed": true
   },
   "outputs": [
    {
     "data": {
      "text/plain": [
       "[<a class=\"base-card__full-link absolute top-0 right-0 bottom-0 left-0 p-0 z-[2]\" data-tracking-client-ingraph=\"\" data-tracking-control-name=\"public_jobs_jserp-result_search-card\" data-tracking-will-navigate=\"\" href=\"https://in.linkedin.com/jobs/view/engineer-maintenance-documentation-at-oil-and-gas-3286929338?refId=IAIQN1Vd46Qb%2B8RwNjS9Rw%3D%3D&amp;trackingId=ryZjw9DOVjq%2BsYjf6w64PQ%3D%3D&amp;position=1&amp;pageNum=0&amp;trk=public_jobs_jserp-result_search-card\">\n",
       " <span class=\"sr-only\">\n",
       "             \n",
       "         \n",
       "         ENGINEER - MAINTENANCE / DOCUMENTATION.\n",
       "       \n",
       "       \n",
       "           </span>\n",
       " </a>,\n",
       " <a class=\"hidden-nested-link\" data-tracking-client-ingraph=\"\" data-tracking-control-name=\"public_jobs_jserp-result_job-search-card-subtitle\" data-tracking-will-navigate=\"\" href=\"https://www.linkedin.com/company/oil-and-gas-job-posting?trk=public_jobs_jserp-result_job-search-card-subtitle\">\n",
       "             Oil and Gas\n",
       "           </a>,\n",
       " <a class=\"base-card__full-link absolute top-0 right-0 bottom-0 left-0 p-0 z-[2]\" data-tracking-client-ingraph=\"\" data-tracking-control-name=\"public_jobs_jserp-result_search-card\" data-tracking-will-navigate=\"\" href=\"https://in.linkedin.com/jobs/view/maintenance-engineer-at-auchtel-products-ltd-formerly-henkel-chemicals-india-ltd-3275060606?refId=IAIQN1Vd46Qb%2B8RwNjS9Rw%3D%3D&amp;trackingId=lvpTm%2FosBAJ0Xlp%2BAmyEtA%3D%3D&amp;position=2&amp;pageNum=0&amp;trk=public_jobs_jserp-result_search-card\">\n",
       " <span class=\"sr-only\">\n",
       "             \n",
       "         \n",
       "         MAINTENANCE ENGINEER\n",
       "       \n",
       "       \n",
       "           </span>\n",
       " </a>,\n",
       " <a class=\"hidden-nested-link\" data-tracking-client-ingraph=\"\" data-tracking-control-name=\"public_jobs_jserp-result_job-search-card-subtitle\" data-tracking-will-navigate=\"\" href=\"https://in.linkedin.com/company/auchtel-products-ltd.-formerly-henkel-chemicals-india-ltd?trk=public_jobs_jserp-result_job-search-card-subtitle\">\n",
       "             Auchtel Products Ltd. (Formerly Henkel Chemicals (India) Ltd\n",
       "           </a>,\n",
       " <a class=\"base-card__full-link absolute top-0 right-0 bottom-0 left-0 p-0 z-[2]\" data-tracking-client-ingraph=\"\" data-tracking-control-name=\"public_jobs_jserp-result_search-card\" data-tracking-will-navigate=\"\" href=\"https://in.linkedin.com/jobs/view/junior-production-engineer-at-king-metal-works-3275061210?refId=IAIQN1Vd46Qb%2B8RwNjS9Rw%3D%3D&amp;trackingId=O86VR4v4RkhowLDKZtxRVQ%3D%3D&amp;position=3&amp;pageNum=0&amp;trk=public_jobs_jserp-result_search-card\">\n",
       " <span class=\"sr-only\">\n",
       "             \n",
       "         \n",
       "         JUNIOR PRODUCTION ENGINEER\n",
       "       \n",
       "       \n",
       "           </span>\n",
       " </a>,\n",
       " <a class=\"hidden-nested-link\" data-tracking-client-ingraph=\"\" data-tracking-control-name=\"public_jobs_jserp-result_job-search-card-subtitle\" data-tracking-will-navigate=\"\" href=\"https://in.linkedin.com/company/kingmetalworks?trk=public_jobs_jserp-result_job-search-card-subtitle\">\n",
       "             King Metal Works\n",
       "           </a>,\n",
       " <a class=\"base-card__full-link absolute top-0 right-0 bottom-0 left-0 p-0 z-[2]\" data-tracking-client-ingraph=\"\" data-tracking-control-name=\"public_jobs_jserp-result_search-card\" data-tracking-will-navigate=\"\" href=\"https://in.linkedin.com/jobs/view/project-engineer-at-taurus-contractors-pvt-ltd-3180182914?refId=IAIQN1Vd46Qb%2B8RwNjS9Rw%3D%3D&amp;trackingId=Z48uDMPk1Dafi8p1bBut9A%3D%3D&amp;position=4&amp;pageNum=0&amp;trk=public_jobs_jserp-result_search-card\">\n",
       " <span class=\"sr-only\">\n",
       "             \n",
       "         \n",
       "         Project Engineer\n",
       "       \n",
       "       \n",
       "           </span>\n",
       " </a>,\n",
       " <a class=\"hidden-nested-link\" data-tracking-client-ingraph=\"\" data-tracking-control-name=\"public_jobs_jserp-result_job-search-card-subtitle\" data-tracking-will-navigate=\"\" href=\"https://in.linkedin.com/company/taurus-contractors-pvt-ltd?trk=public_jobs_jserp-result_job-search-card-subtitle\">\n",
       "             Taurus Contractors Pvt Ltd\n",
       "           </a>,\n",
       " <a class=\"base-card__full-link absolute top-0 right-0 bottom-0 left-0 p-0 z-[2]\" data-tracking-client-ingraph=\"\" data-tracking-control-name=\"public_jobs_jserp-result_search-card\" data-tracking-will-navigate=\"\" href=\"https://in.linkedin.com/jobs/view/fresher-mechanical-engineer-at-spirale-hr-solutions-pvt-ltd-3305000837?refId=IAIQN1Vd46Qb%2B8RwNjS9Rw%3D%3D&amp;trackingId=rZe8paNUAeXZhOC6cNFdbw%3D%3D&amp;position=5&amp;pageNum=0&amp;trk=public_jobs_jserp-result_search-card\">\n",
       " <span class=\"sr-only\">\n",
       "             \n",
       "         \n",
       "         Fresher Mechanical Engineer\n",
       "       \n",
       "       \n",
       "           </span>\n",
       " </a>,\n",
       " <a class=\"hidden-nested-link\" data-tracking-client-ingraph=\"\" data-tracking-control-name=\"public_jobs_jserp-result_job-search-card-subtitle\" data-tracking-will-navigate=\"\" href=\"https://in.linkedin.com/company/spirale-hr-solutions-pvt-ltd?trk=public_jobs_jserp-result_job-search-card-subtitle\">\n",
       "             Spirale HR Solutions Pvt Ltd\n",
       "           </a>,\n",
       " <a class=\"base-card__full-link absolute top-0 right-0 bottom-0 left-0 p-0 z-[2]\" data-tracking-client-ingraph=\"\" data-tracking-control-name=\"public_jobs_jserp-result_search-card\" data-tracking-will-navigate=\"\" href=\"https://in.linkedin.com/jobs/view/instrumentation-engineer-at-brunel-3310227705?refId=IAIQN1Vd46Qb%2B8RwNjS9Rw%3D%3D&amp;trackingId=olK%2FdfspMXuZDHIcEc599Q%3D%3D&amp;position=6&amp;pageNum=0&amp;trk=public_jobs_jserp-result_search-card\">\n",
       " <span class=\"sr-only\">\n",
       "             \n",
       "         \n",
       "         Instrumentation Engineer\n",
       "       \n",
       "       \n",
       "           </span>\n",
       " </a>,\n",
       " <a class=\"hidden-nested-link\" data-tracking-client-ingraph=\"\" data-tracking-control-name=\"public_jobs_jserp-result_job-search-card-subtitle\" data-tracking-will-navigate=\"\" href=\"https://nl.linkedin.com/company/brunel?trk=public_jobs_jserp-result_job-search-card-subtitle\">\n",
       "             Brunel\n",
       "           </a>,\n",
       " <a class=\"base-card__full-link absolute top-0 right-0 bottom-0 left-0 p-0 z-[2]\" data-tracking-client-ingraph=\"\" data-tracking-control-name=\"public_jobs_jserp-result_search-card\" data-tracking-will-navigate=\"\" href=\"https://in.linkedin.com/jobs/view/mechanical-engineer-at-atago-india-instruments-pvt-ltd-3298388265?refId=IAIQN1Vd46Qb%2B8RwNjS9Rw%3D%3D&amp;trackingId=LMcNPfCvt15PCgNgH8O12g%3D%3D&amp;position=7&amp;pageNum=0&amp;trk=public_jobs_jserp-result_search-card\">\n",
       " <span class=\"sr-only\">\n",
       "             \n",
       "         \n",
       "         Mechanical Engineer\n",
       "       \n",
       "       \n",
       "           </span>\n",
       " </a>,\n",
       " <a class=\"hidden-nested-link\" data-tracking-client-ingraph=\"\" data-tracking-control-name=\"public_jobs_jserp-result_job-search-card-subtitle\" data-tracking-will-navigate=\"\" href=\"https://in.linkedin.com/company/atago-india-instruments-pvt-ltd?trk=public_jobs_jserp-result_job-search-card-subtitle\">\n",
       "             ATAGO INDIA Instruments Pvt Ltd\n",
       "           </a>,\n",
       " <a class=\"base-card__full-link absolute top-0 right-0 bottom-0 left-0 p-0 z-[2]\" data-tracking-client-ingraph=\"\" data-tracking-control-name=\"public_jobs_jserp-result_search-card\" data-tracking-will-navigate=\"\" href=\"https://in.linkedin.com/jobs/view/service-engineer-at-ambetronics-engineers-pvt-ltd-3275067024?refId=IAIQN1Vd46Qb%2B8RwNjS9Rw%3D%3D&amp;trackingId=RNCjcbMmkAekxzegm6YIIA%3D%3D&amp;position=8&amp;pageNum=0&amp;trk=public_jobs_jserp-result_search-card\">\n",
       " <span class=\"sr-only\">\n",
       "             \n",
       "         \n",
       "         Service Engineer\n",
       "       \n",
       "       \n",
       "           </span>\n",
       " </a>,\n",
       " <a class=\"hidden-nested-link\" data-tracking-client-ingraph=\"\" data-tracking-control-name=\"public_jobs_jserp-result_job-search-card-subtitle\" data-tracking-will-navigate=\"\" href=\"https://in.linkedin.com/company/ambetronics-engineers?trk=public_jobs_jserp-result_job-search-card-subtitle\">\n",
       "             Ambetronics Engineers Pvt. Ltd.\n",
       "           </a>,\n",
       " <a class=\"base-card__full-link absolute top-0 right-0 bottom-0 left-0 p-0 z-[2]\" data-tracking-client-ingraph=\"\" data-tracking-control-name=\"public_jobs_jserp-result_search-card\" data-tracking-will-navigate=\"\" href=\"https://in.linkedin.com/jobs/view/electronics-engineer-production-department-at-ambetronics-engineers-pvt-ltd-3275057792?refId=IAIQN1Vd46Qb%2B8RwNjS9Rw%3D%3D&amp;trackingId=O4w0cGQI8nUZXqreviCIWA%3D%3D&amp;position=9&amp;pageNum=0&amp;trk=public_jobs_jserp-result_search-card\">\n",
       " <span class=\"sr-only\">\n",
       "             \n",
       "         \n",
       "         Electronics Engineer- Production Department\n",
       "       \n",
       "       \n",
       "           </span>\n",
       " </a>,\n",
       " <a class=\"hidden-nested-link\" data-tracking-client-ingraph=\"\" data-tracking-control-name=\"public_jobs_jserp-result_job-search-card-subtitle\" data-tracking-will-navigate=\"\" href=\"https://in.linkedin.com/company/ambetronics-engineers?trk=public_jobs_jserp-result_job-search-card-subtitle\">\n",
       "             Ambetronics Engineers Pvt. Ltd.\n",
       "           </a>,\n",
       " <a class=\"base-card__full-link absolute top-0 right-0 bottom-0 left-0 p-0 z-[2]\" data-tracking-client-ingraph=\"\" data-tracking-control-name=\"public_jobs_jserp-result_search-card\" data-tracking-will-navigate=\"\" href=\"https://in.linkedin.com/jobs/view/mechanical-engineer-at-istep-technology-towards-empowerment-3273892717?refId=IAIQN1Vd46Qb%2B8RwNjS9Rw%3D%3D&amp;trackingId=jotKL2zRWqJ0899cduVVzw%3D%3D&amp;position=10&amp;pageNum=0&amp;trk=public_jobs_jserp-result_search-card\">\n",
       " <span class=\"sr-only\">\n",
       "             \n",
       "         \n",
       "         Mechanical Engineer\n",
       "       \n",
       "       \n",
       "           </span>\n",
       " </a>,\n",
       " <a class=\"hidden-nested-link\" data-tracking-client-ingraph=\"\" data-tracking-control-name=\"public_jobs_jserp-result_job-search-card-subtitle\" data-tracking-will-navigate=\"\" href=\"https://in.linkedin.com/company/isteplearning?trk=public_jobs_jserp-result_job-search-card-subtitle\">\n",
       "             iSTEP TECHNOLOGY [Towards Empowerment]\n",
       "           </a>,\n",
       " <a class=\"base-card__full-link absolute top-0 right-0 bottom-0 left-0 p-0 z-[2]\" data-tracking-client-ingraph=\"\" data-tracking-control-name=\"public_jobs_jserp-result_search-card\" data-tracking-will-navigate=\"\" href=\"https://in.linkedin.com/jobs/view/planning-engineer-at-taurus-contractors-pvt-ltd-3280327484?refId=IAIQN1Vd46Qb%2B8RwNjS9Rw%3D%3D&amp;trackingId=w9%2FS4T31ZLVH4k1lJCYVqw%3D%3D&amp;position=11&amp;pageNum=0&amp;trk=public_jobs_jserp-result_search-card\">\n",
       " <span class=\"sr-only\">\n",
       "             \n",
       "         \n",
       "         Planning Engineer\n",
       "       \n",
       "       \n",
       "           </span>\n",
       " </a>,\n",
       " <a class=\"hidden-nested-link\" data-tracking-client-ingraph=\"\" data-tracking-control-name=\"public_jobs_jserp-result_job-search-card-subtitle\" data-tracking-will-navigate=\"\" href=\"https://in.linkedin.com/company/taurus-contractors-pvt-ltd?trk=public_jobs_jserp-result_job-search-card-subtitle\">\n",
       "             Taurus Contractors Pvt Ltd\n",
       "           </a>,\n",
       " <a class=\"base-card__full-link absolute top-0 right-0 bottom-0 left-0 p-0 z-[2]\" data-tracking-client-ingraph=\"\" data-tracking-control-name=\"public_jobs_jserp-result_search-card\" data-tracking-will-navigate=\"\" href=\"https://in.linkedin.com/jobs/view/planning-engineer-at-taurus-contractors-pvt-ltd-3290598434?refId=IAIQN1Vd46Qb%2B8RwNjS9Rw%3D%3D&amp;trackingId=zqtSDsbyH4elIHZSRubB9Q%3D%3D&amp;position=12&amp;pageNum=0&amp;trk=public_jobs_jserp-result_search-card\">\n",
       " <span class=\"sr-only\">\n",
       "             \n",
       "         \n",
       "         Planning Engineer\n",
       "       \n",
       "       \n",
       "           </span>\n",
       " </a>,\n",
       " <a class=\"hidden-nested-link\" data-tracking-client-ingraph=\"\" data-tracking-control-name=\"public_jobs_jserp-result_job-search-card-subtitle\" data-tracking-will-navigate=\"\" href=\"https://in.linkedin.com/company/taurus-contractors-pvt-ltd?trk=public_jobs_jserp-result_job-search-card-subtitle\">\n",
       "             Taurus Contractors Pvt Ltd\n",
       "           </a>,\n",
       " <a class=\"base-card__full-link absolute top-0 right-0 bottom-0 left-0 p-0 z-[2]\" data-tracking-client-ingraph=\"\" data-tracking-control-name=\"public_jobs_jserp-result_search-card\" data-tracking-will-navigate=\"\" href=\"https://in.linkedin.com/jobs/view/service-engineer-at-sparkle-clean-tech-pvt-ltd-3275059340?refId=IAIQN1Vd46Qb%2B8RwNjS9Rw%3D%3D&amp;trackingId=7wcsMtZvAWjaLTFsmr4NeA%3D%3D&amp;position=13&amp;pageNum=0&amp;trk=public_jobs_jserp-result_search-card\">\n",
       " <span class=\"sr-only\">\n",
       "             \n",
       "         \n",
       "         Service Engineer\n",
       "       \n",
       "       \n",
       "           </span>\n",
       " </a>,\n",
       " <a class=\"hidden-nested-link\" data-tracking-client-ingraph=\"\" data-tracking-control-name=\"public_jobs_jserp-result_job-search-card-subtitle\" data-tracking-will-navigate=\"\" href=\"https://in.linkedin.com/company/sparkle-clean-tech?trk=public_jobs_jserp-result_job-search-card-subtitle\">\n",
       "             Sparkle Clean Tech Pvt. Ltd.\n",
       "           </a>,\n",
       " <a class=\"base-card__full-link absolute top-0 right-0 bottom-0 left-0 p-0 z-[2]\" data-tracking-client-ingraph=\"\" data-tracking-control-name=\"public_jobs_jserp-result_search-card\" data-tracking-will-navigate=\"\" href=\"https://in.linkedin.com/jobs/view/technician-jr-engineer-incoming-quality-control-at-ambetronics-engineers-pvt-ltd-3275058469?refId=IAIQN1Vd46Qb%2B8RwNjS9Rw%3D%3D&amp;trackingId=1QJSNZ%2FtUXP9gnbxC5NIsw%3D%3D&amp;position=14&amp;pageNum=0&amp;trk=public_jobs_jserp-result_search-card\">\n",
       " <span class=\"sr-only\">\n",
       "             \n",
       "         \n",
       "         Technician/Jr. Engineer Incoming Quality Control\n",
       "       \n",
       "       \n",
       "           </span>\n",
       " </a>,\n",
       " <a class=\"hidden-nested-link\" data-tracking-client-ingraph=\"\" data-tracking-control-name=\"public_jobs_jserp-result_job-search-card-subtitle\" data-tracking-will-navigate=\"\" href=\"https://in.linkedin.com/company/ambetronics-engineers?trk=public_jobs_jserp-result_job-search-card-subtitle\">\n",
       "             Ambetronics Engineers Pvt. Ltd.\n",
       "           </a>,\n",
       " <a class=\"base-card__full-link absolute top-0 right-0 bottom-0 left-0 p-0 z-[2]\" data-tracking-client-ingraph=\"\" data-tracking-control-name=\"public_jobs_jserp-result_search-card\" data-tracking-will-navigate=\"\" href=\"https://in.linkedin.com/jobs/view/process-engineer-at-taurus-contractors-pvt-ltd-3206521482?refId=IAIQN1Vd46Qb%2B8RwNjS9Rw%3D%3D&amp;trackingId=5rV%2FpLvjEhMNaUJ90ACShA%3D%3D&amp;position=15&amp;pageNum=0&amp;trk=public_jobs_jserp-result_search-card\">\n",
       " <span class=\"sr-only\">\n",
       "             \n",
       "         \n",
       "         Process Engineer\n",
       "       \n",
       "       \n",
       "           </span>\n",
       " </a>,\n",
       " <a class=\"hidden-nested-link\" data-tracking-client-ingraph=\"\" data-tracking-control-name=\"public_jobs_jserp-result_job-search-card-subtitle\" data-tracking-will-navigate=\"\" href=\"https://in.linkedin.com/company/taurus-contractors-pvt-ltd?trk=public_jobs_jserp-result_job-search-card-subtitle\">\n",
       "             Taurus Contractors Pvt Ltd\n",
       "           </a>,\n",
       " <a class=\"base-card__full-link absolute top-0 right-0 bottom-0 left-0 p-0 z-[2]\" data-tracking-client-ingraph=\"\" data-tracking-control-name=\"public_jobs_jserp-result_search-card\" data-tracking-will-navigate=\"\" href=\"https://in.linkedin.com/jobs/view/process-engineer-at-taurus-contractors-pvt-ltd-3184036073?refId=IAIQN1Vd46Qb%2B8RwNjS9Rw%3D%3D&amp;trackingId=sNb2qMguLuxboRaro%2FSo6w%3D%3D&amp;position=16&amp;pageNum=0&amp;trk=public_jobs_jserp-result_search-card\">\n",
       " <span class=\"sr-only\">\n",
       "             \n",
       "         \n",
       "         Process Engineer\n",
       "       \n",
       "       \n",
       "           </span>\n",
       " </a>,\n",
       " <a class=\"hidden-nested-link\" data-tracking-client-ingraph=\"\" data-tracking-control-name=\"public_jobs_jserp-result_job-search-card-subtitle\" data-tracking-will-navigate=\"\" href=\"https://in.linkedin.com/company/taurus-contractors-pvt-ltd?trk=public_jobs_jserp-result_job-search-card-subtitle\">\n",
       "             Taurus Contractors Pvt Ltd\n",
       "           </a>,\n",
       " <a class=\"base-card__full-link absolute top-0 right-0 bottom-0 left-0 p-0 z-[2]\" data-tracking-client-ingraph=\"\" data-tracking-control-name=\"public_jobs_jserp-result_search-card\" data-tracking-will-navigate=\"\" href=\"https://in.linkedin.com/jobs/view/application-engineer-at-ion-energy-3297505238?refId=IAIQN1Vd46Qb%2B8RwNjS9Rw%3D%3D&amp;trackingId=8X7ojRgvzYg5OZAcCs8DWg%3D%3D&amp;position=17&amp;pageNum=0&amp;trk=public_jobs_jserp-result_search-card\">\n",
       " <span class=\"sr-only\">\n",
       "             \n",
       "         \n",
       "         Application Engineer\n",
       "       \n",
       "       \n",
       "           </span>\n",
       " </a>,\n",
       " <a class=\"hidden-nested-link\" data-tracking-client-ingraph=\"\" data-tracking-control-name=\"public_jobs_jserp-result_job-search-card-subtitle\" data-tracking-will-navigate=\"\" href=\"https://in.linkedin.com/company/ionenergyinc?trk=public_jobs_jserp-result_job-search-card-subtitle\">\n",
       "             ION Energy\n",
       "           </a>,\n",
       " <a class=\"base-card__full-link absolute top-0 right-0 bottom-0 left-0 p-0 z-[2]\" data-tracking-client-ingraph=\"\" data-tracking-control-name=\"public_jobs_jserp-result_search-card\" data-tracking-will-navigate=\"\" href=\"https://in.linkedin.com/jobs/view/electrical-engineer-construction-at-thyssenkrupp-3274562427?refId=IAIQN1Vd46Qb%2B8RwNjS9Rw%3D%3D&amp;trackingId=01hBWt3MfXpQihcNizxO1w%3D%3D&amp;position=18&amp;pageNum=0&amp;trk=public_jobs_jserp-result_search-card\">\n",
       " <span class=\"sr-only\">\n",
       "             \n",
       "         \n",
       "         Electrical Engineer - Construction\n",
       "       \n",
       "       \n",
       "           </span>\n",
       " </a>,\n",
       " <a class=\"hidden-nested-link\" data-tracking-client-ingraph=\"\" data-tracking-control-name=\"public_jobs_jserp-result_job-search-card-subtitle\" data-tracking-will-navigate=\"\" href=\"https://de.linkedin.com/company/thyssenkrupp?trk=public_jobs_jserp-result_job-search-card-subtitle\">\n",
       "             thyssenkrupp\n",
       "           </a>,\n",
       " <a class=\"base-card__full-link absolute top-0 right-0 bottom-0 left-0 p-0 z-[2]\" data-tracking-client-ingraph=\"\" data-tracking-control-name=\"public_jobs_jserp-result_search-card\" data-tracking-will-navigate=\"\" href=\"https://in.linkedin.com/jobs/view/mechanical-engineer-at-ideaforge-3297618182?refId=IAIQN1Vd46Qb%2B8RwNjS9Rw%3D%3D&amp;trackingId=Krxi2%2FGCpwrAlRhW9euhGg%3D%3D&amp;position=19&amp;pageNum=0&amp;trk=public_jobs_jserp-result_search-card\">\n",
       " <span class=\"sr-only\">\n",
       "             \n",
       "         \n",
       "         Mechanical Engineer\n",
       "       \n",
       "       \n",
       "           </span>\n",
       " </a>,\n",
       " <a class=\"hidden-nested-link\" data-tracking-client-ingraph=\"\" data-tracking-control-name=\"public_jobs_jserp-result_job-search-card-subtitle\" data-tracking-will-navigate=\"\" href=\"https://in.linkedin.com/company/ideaforge?trk=public_jobs_jserp-result_job-search-card-subtitle\">\n",
       "             ideaForge\n",
       "           </a>,\n",
       " <a class=\"base-card__full-link absolute top-0 right-0 bottom-0 left-0 p-0 z-[2]\" data-tracking-client-ingraph=\"\" data-tracking-control-name=\"public_jobs_jserp-result_search-card\" data-tracking-will-navigate=\"\" href=\"https://in.linkedin.com/jobs/view/project-engineer-at-centre-for-development-of-advanced-computing-c-dac-3310899825?refId=IAIQN1Vd46Qb%2B8RwNjS9Rw%3D%3D&amp;trackingId=ciM4Z0l3fjooe4FmijL9Mg%3D%3D&amp;position=20&amp;pageNum=0&amp;trk=public_jobs_jserp-result_search-card\">\n",
       " <span class=\"sr-only\">\n",
       "             \n",
       "         \n",
       "         Project Engineer\n",
       "       \n",
       "       \n",
       "           </span>\n",
       " </a>,\n",
       " <a class=\"hidden-nested-link\" data-tracking-client-ingraph=\"\" data-tracking-control-name=\"public_jobs_jserp-result_job-search-card-subtitle\" data-tracking-will-navigate=\"\" href=\"https://in.linkedin.com/company/c-dac?trk=public_jobs_jserp-result_job-search-card-subtitle\">\n",
       "             Centre for Development of Advanced Computing (C-DAC)\n",
       "           </a>,\n",
       " <a class=\"base-card__full-link absolute top-0 right-0 bottom-0 left-0 p-0 z-[2]\" data-tracking-client-ingraph=\"\" data-tracking-control-name=\"public_jobs_jserp-result_search-card\" data-tracking-will-navigate=\"\" href=\"https://in.linkedin.com/jobs/view/project-control-engineer-offshore-at-taurus-contractors-pvt-ltd-3206520503?refId=IAIQN1Vd46Qb%2B8RwNjS9Rw%3D%3D&amp;trackingId=FJ1OM7RW3LOWansHICAHFA%3D%3D&amp;position=21&amp;pageNum=0&amp;trk=public_jobs_jserp-result_search-card\">\n",
       " <span class=\"sr-only\">\n",
       "             \n",
       "         \n",
       "         Project Control Engineer (Offshore)\n",
       "       \n",
       "       \n",
       "           </span>\n",
       " </a>,\n",
       " <a class=\"hidden-nested-link\" data-tracking-client-ingraph=\"\" data-tracking-control-name=\"public_jobs_jserp-result_job-search-card-subtitle\" data-tracking-will-navigate=\"\" href=\"https://in.linkedin.com/company/taurus-contractors-pvt-ltd?trk=public_jobs_jserp-result_job-search-card-subtitle\">\n",
       "             Taurus Contractors Pvt Ltd\n",
       "           </a>,\n",
       " <a class=\"base-card__full-link absolute top-0 right-0 bottom-0 left-0 p-0 z-[2]\" data-tracking-client-ingraph=\"\" data-tracking-control-name=\"public_jobs_jserp-result_search-card\" data-tracking-will-navigate=\"\" href=\"https://in.linkedin.com/jobs/view/electrician-and-installation-engineer-at-waycool-foods-3284701331?refId=IAIQN1Vd46Qb%2B8RwNjS9Rw%3D%3D&amp;trackingId=Xnni0hoR31uSTsWLqyeO0A%3D%3D&amp;position=22&amp;pageNum=0&amp;trk=public_jobs_jserp-result_search-card\">\n",
       " <span class=\"sr-only\">\n",
       "             \n",
       "         \n",
       "         Electrician and Installation Engineer\n",
       "       \n",
       "       \n",
       "           </span>\n",
       " </a>,\n",
       " <a class=\"hidden-nested-link\" data-tracking-client-ingraph=\"\" data-tracking-control-name=\"public_jobs_jserp-result_job-search-card-subtitle\" data-tracking-will-navigate=\"\" href=\"https://in.linkedin.com/company/waycoolfoods?trk=public_jobs_jserp-result_job-search-card-subtitle\">\n",
       "             WayCool Foods\n",
       "           </a>,\n",
       " <a class=\"base-card__full-link absolute top-0 right-0 bottom-0 left-0 p-0 z-[2]\" data-tracking-client-ingraph=\"\" data-tracking-control-name=\"public_jobs_jserp-result_search-card\" data-tracking-will-navigate=\"\" href=\"https://in.linkedin.com/jobs/view/maintainence-engineers-pumps-compressors-at-oil-and-gas-3281122768?refId=IAIQN1Vd46Qb%2B8RwNjS9Rw%3D%3D&amp;trackingId=1B%2BhaLfsdPp9WsulexPEgg%3D%3D&amp;position=23&amp;pageNum=0&amp;trk=public_jobs_jserp-result_search-card\">\n",
       " <span class=\"sr-only\">\n",
       "             \n",
       "         \n",
       "         MAINTAINENCE ENGINEERS PUMPS &amp; COMPRESSORS\n",
       "       \n",
       "       \n",
       "           </span>\n",
       " </a>,\n",
       " <a class=\"hidden-nested-link\" data-tracking-client-ingraph=\"\" data-tracking-control-name=\"public_jobs_jserp-result_job-search-card-subtitle\" data-tracking-will-navigate=\"\" href=\"https://www.linkedin.com/company/oil-and-gas-job-posting?trk=public_jobs_jserp-result_job-search-card-subtitle\">\n",
       "             Oil and Gas\n",
       "           </a>,\n",
       " <a class=\"base-card__full-link absolute top-0 right-0 bottom-0 left-0 p-0 z-[2]\" data-tracking-client-ingraph=\"\" data-tracking-control-name=\"public_jobs_jserp-result_search-card\" data-tracking-will-navigate=\"\" href=\"https://in.linkedin.com/jobs/view/testing-and-validation-engineer-at-gegadyne-energy-3292913335?refId=IAIQN1Vd46Qb%2B8RwNjS9Rw%3D%3D&amp;trackingId=pgC1AgkhkBGbeuBwoPMe8g%3D%3D&amp;position=24&amp;pageNum=0&amp;trk=public_jobs_jserp-result_search-card\">\n",
       " <span class=\"sr-only\">\n",
       "             \n",
       "         \n",
       "         Testing and Validation Engineer\n",
       "       \n",
       "       \n",
       "           </span>\n",
       " </a>,\n",
       " <a class=\"hidden-nested-link\" data-tracking-client-ingraph=\"\" data-tracking-control-name=\"public_jobs_jserp-result_job-search-card-subtitle\" data-tracking-will-navigate=\"\" href=\"https://in.linkedin.com/company/gegadyne?trk=public_jobs_jserp-result_job-search-card-subtitle\">\n",
       "             Gegadyne Energy\n",
       "           </a>,\n",
       " <a class=\"base-card__full-link absolute top-0 right-0 bottom-0 left-0 p-0 z-[2]\" data-tracking-client-ingraph=\"\" data-tracking-control-name=\"public_jobs_jserp-result_search-card\" data-tracking-will-navigate=\"\" href=\"https://in.linkedin.com/jobs/view/mechanical-rotating-engineer-at-taurus-contractors-pvt-ltd-3280335679?refId=IAIQN1Vd46Qb%2B8RwNjS9Rw%3D%3D&amp;trackingId=I99xojC1tCs1rR2N4xarbA%3D%3D&amp;position=25&amp;pageNum=0&amp;trk=public_jobs_jserp-result_search-card\">\n",
       " <span class=\"sr-only\">\n",
       "             \n",
       "         \n",
       "         Mechanical Rotating Engineer\n",
       "       \n",
       "       \n",
       "           </span>\n",
       " </a>,\n",
       " <a class=\"hidden-nested-link\" data-tracking-client-ingraph=\"\" data-tracking-control-name=\"public_jobs_jserp-result_job-search-card-subtitle\" data-tracking-will-navigate=\"\" href=\"https://in.linkedin.com/company/taurus-contractors-pvt-ltd?trk=public_jobs_jserp-result_job-search-card-subtitle\">\n",
       "             Taurus Contractors Pvt Ltd\n",
       "           </a>]"
      ]
     },
     "execution_count": 184,
     "metadata": {},
     "output_type": "execute_result"
    }
   ],
   "source": [
    "href_tags"
   ]
  },
  {
   "cell_type": "code",
   "execution_count": 192,
   "id": "e9568af2",
   "metadata": {},
   "outputs": [],
   "source": [
    "job_link= []\n",
    "for a22 in soup1.find_all('a', href=True):\n",
    "    job_link.append(a22['href'])\n",
    "    "
   ]
  },
  {
   "cell_type": "code",
   "execution_count": 198,
   "id": "380c82e0",
   "metadata": {
    "collapsed": true
   },
   "outputs": [
    {
     "data": {
      "text/plain": [
       "['https://in.linkedin.com/jobs/view/engineer-maintenance-documentation-at-oil-and-gas-3286929338?refId=IAIQN1Vd46Qb%2B8RwNjS9Rw%3D%3D&trackingId=ryZjw9DOVjq%2BsYjf6w64PQ%3D%3D&position=1&pageNum=0&trk=public_jobs_jserp-result_search-card',\n",
       " 'https://www.linkedin.com/company/oil-and-gas-job-posting?trk=public_jobs_jserp-result_job-search-card-subtitle',\n",
       " 'https://in.linkedin.com/jobs/view/maintenance-engineer-at-auchtel-products-ltd-formerly-henkel-chemicals-india-ltd-3275060606?refId=IAIQN1Vd46Qb%2B8RwNjS9Rw%3D%3D&trackingId=lvpTm%2FosBAJ0Xlp%2BAmyEtA%3D%3D&position=2&pageNum=0&trk=public_jobs_jserp-result_search-card',\n",
       " 'https://in.linkedin.com/company/auchtel-products-ltd.-formerly-henkel-chemicals-india-ltd?trk=public_jobs_jserp-result_job-search-card-subtitle',\n",
       " 'https://in.linkedin.com/jobs/view/junior-production-engineer-at-king-metal-works-3275061210?refId=IAIQN1Vd46Qb%2B8RwNjS9Rw%3D%3D&trackingId=O86VR4v4RkhowLDKZtxRVQ%3D%3D&position=3&pageNum=0&trk=public_jobs_jserp-result_search-card',\n",
       " 'https://in.linkedin.com/company/kingmetalworks?trk=public_jobs_jserp-result_job-search-card-subtitle',\n",
       " 'https://in.linkedin.com/jobs/view/project-engineer-at-taurus-contractors-pvt-ltd-3180182914?refId=IAIQN1Vd46Qb%2B8RwNjS9Rw%3D%3D&trackingId=Z48uDMPk1Dafi8p1bBut9A%3D%3D&position=4&pageNum=0&trk=public_jobs_jserp-result_search-card',\n",
       " 'https://in.linkedin.com/company/taurus-contractors-pvt-ltd?trk=public_jobs_jserp-result_job-search-card-subtitle',\n",
       " 'https://in.linkedin.com/jobs/view/fresher-mechanical-engineer-at-spirale-hr-solutions-pvt-ltd-3305000837?refId=IAIQN1Vd46Qb%2B8RwNjS9Rw%3D%3D&trackingId=rZe8paNUAeXZhOC6cNFdbw%3D%3D&position=5&pageNum=0&trk=public_jobs_jserp-result_search-card',\n",
       " 'https://in.linkedin.com/company/spirale-hr-solutions-pvt-ltd?trk=public_jobs_jserp-result_job-search-card-subtitle',\n",
       " 'https://in.linkedin.com/jobs/view/instrumentation-engineer-at-brunel-3310227705?refId=IAIQN1Vd46Qb%2B8RwNjS9Rw%3D%3D&trackingId=olK%2FdfspMXuZDHIcEc599Q%3D%3D&position=6&pageNum=0&trk=public_jobs_jserp-result_search-card',\n",
       " 'https://nl.linkedin.com/company/brunel?trk=public_jobs_jserp-result_job-search-card-subtitle',\n",
       " 'https://in.linkedin.com/jobs/view/mechanical-engineer-at-atago-india-instruments-pvt-ltd-3298388265?refId=IAIQN1Vd46Qb%2B8RwNjS9Rw%3D%3D&trackingId=LMcNPfCvt15PCgNgH8O12g%3D%3D&position=7&pageNum=0&trk=public_jobs_jserp-result_search-card',\n",
       " 'https://in.linkedin.com/company/atago-india-instruments-pvt-ltd?trk=public_jobs_jserp-result_job-search-card-subtitle',\n",
       " 'https://in.linkedin.com/jobs/view/service-engineer-at-ambetronics-engineers-pvt-ltd-3275067024?refId=IAIQN1Vd46Qb%2B8RwNjS9Rw%3D%3D&trackingId=RNCjcbMmkAekxzegm6YIIA%3D%3D&position=8&pageNum=0&trk=public_jobs_jserp-result_search-card',\n",
       " 'https://in.linkedin.com/company/ambetronics-engineers?trk=public_jobs_jserp-result_job-search-card-subtitle',\n",
       " 'https://in.linkedin.com/jobs/view/electronics-engineer-production-department-at-ambetronics-engineers-pvt-ltd-3275057792?refId=IAIQN1Vd46Qb%2B8RwNjS9Rw%3D%3D&trackingId=O4w0cGQI8nUZXqreviCIWA%3D%3D&position=9&pageNum=0&trk=public_jobs_jserp-result_search-card',\n",
       " 'https://in.linkedin.com/company/ambetronics-engineers?trk=public_jobs_jserp-result_job-search-card-subtitle',\n",
       " 'https://in.linkedin.com/jobs/view/mechanical-engineer-at-istep-technology-towards-empowerment-3273892717?refId=IAIQN1Vd46Qb%2B8RwNjS9Rw%3D%3D&trackingId=jotKL2zRWqJ0899cduVVzw%3D%3D&position=10&pageNum=0&trk=public_jobs_jserp-result_search-card',\n",
       " 'https://in.linkedin.com/company/isteplearning?trk=public_jobs_jserp-result_job-search-card-subtitle',\n",
       " 'https://in.linkedin.com/jobs/view/planning-engineer-at-taurus-contractors-pvt-ltd-3280327484?refId=IAIQN1Vd46Qb%2B8RwNjS9Rw%3D%3D&trackingId=w9%2FS4T31ZLVH4k1lJCYVqw%3D%3D&position=11&pageNum=0&trk=public_jobs_jserp-result_search-card',\n",
       " 'https://in.linkedin.com/company/taurus-contractors-pvt-ltd?trk=public_jobs_jserp-result_job-search-card-subtitle',\n",
       " 'https://in.linkedin.com/jobs/view/planning-engineer-at-taurus-contractors-pvt-ltd-3290598434?refId=IAIQN1Vd46Qb%2B8RwNjS9Rw%3D%3D&trackingId=zqtSDsbyH4elIHZSRubB9Q%3D%3D&position=12&pageNum=0&trk=public_jobs_jserp-result_search-card',\n",
       " 'https://in.linkedin.com/company/taurus-contractors-pvt-ltd?trk=public_jobs_jserp-result_job-search-card-subtitle',\n",
       " 'https://in.linkedin.com/jobs/view/service-engineer-at-sparkle-clean-tech-pvt-ltd-3275059340?refId=IAIQN1Vd46Qb%2B8RwNjS9Rw%3D%3D&trackingId=7wcsMtZvAWjaLTFsmr4NeA%3D%3D&position=13&pageNum=0&trk=public_jobs_jserp-result_search-card',\n",
       " 'https://in.linkedin.com/company/sparkle-clean-tech?trk=public_jobs_jserp-result_job-search-card-subtitle',\n",
       " 'https://in.linkedin.com/jobs/view/technician-jr-engineer-incoming-quality-control-at-ambetronics-engineers-pvt-ltd-3275058469?refId=IAIQN1Vd46Qb%2B8RwNjS9Rw%3D%3D&trackingId=1QJSNZ%2FtUXP9gnbxC5NIsw%3D%3D&position=14&pageNum=0&trk=public_jobs_jserp-result_search-card',\n",
       " 'https://in.linkedin.com/company/ambetronics-engineers?trk=public_jobs_jserp-result_job-search-card-subtitle',\n",
       " 'https://in.linkedin.com/jobs/view/process-engineer-at-taurus-contractors-pvt-ltd-3206521482?refId=IAIQN1Vd46Qb%2B8RwNjS9Rw%3D%3D&trackingId=5rV%2FpLvjEhMNaUJ90ACShA%3D%3D&position=15&pageNum=0&trk=public_jobs_jserp-result_search-card',\n",
       " 'https://in.linkedin.com/company/taurus-contractors-pvt-ltd?trk=public_jobs_jserp-result_job-search-card-subtitle',\n",
       " 'https://in.linkedin.com/jobs/view/process-engineer-at-taurus-contractors-pvt-ltd-3184036073?refId=IAIQN1Vd46Qb%2B8RwNjS9Rw%3D%3D&trackingId=sNb2qMguLuxboRaro%2FSo6w%3D%3D&position=16&pageNum=0&trk=public_jobs_jserp-result_search-card',\n",
       " 'https://in.linkedin.com/company/taurus-contractors-pvt-ltd?trk=public_jobs_jserp-result_job-search-card-subtitle',\n",
       " 'https://in.linkedin.com/jobs/view/application-engineer-at-ion-energy-3297505238?refId=IAIQN1Vd46Qb%2B8RwNjS9Rw%3D%3D&trackingId=8X7ojRgvzYg5OZAcCs8DWg%3D%3D&position=17&pageNum=0&trk=public_jobs_jserp-result_search-card',\n",
       " 'https://in.linkedin.com/company/ionenergyinc?trk=public_jobs_jserp-result_job-search-card-subtitle',\n",
       " 'https://in.linkedin.com/jobs/view/electrical-engineer-construction-at-thyssenkrupp-3274562427?refId=IAIQN1Vd46Qb%2B8RwNjS9Rw%3D%3D&trackingId=01hBWt3MfXpQihcNizxO1w%3D%3D&position=18&pageNum=0&trk=public_jobs_jserp-result_search-card',\n",
       " 'https://de.linkedin.com/company/thyssenkrupp?trk=public_jobs_jserp-result_job-search-card-subtitle',\n",
       " 'https://in.linkedin.com/jobs/view/mechanical-engineer-at-ideaforge-3297618182?refId=IAIQN1Vd46Qb%2B8RwNjS9Rw%3D%3D&trackingId=Krxi2%2FGCpwrAlRhW9euhGg%3D%3D&position=19&pageNum=0&trk=public_jobs_jserp-result_search-card',\n",
       " 'https://in.linkedin.com/company/ideaforge?trk=public_jobs_jserp-result_job-search-card-subtitle',\n",
       " 'https://in.linkedin.com/jobs/view/project-engineer-at-centre-for-development-of-advanced-computing-c-dac-3310899825?refId=IAIQN1Vd46Qb%2B8RwNjS9Rw%3D%3D&trackingId=ciM4Z0l3fjooe4FmijL9Mg%3D%3D&position=20&pageNum=0&trk=public_jobs_jserp-result_search-card',\n",
       " 'https://in.linkedin.com/company/c-dac?trk=public_jobs_jserp-result_job-search-card-subtitle',\n",
       " 'https://in.linkedin.com/jobs/view/project-control-engineer-offshore-at-taurus-contractors-pvt-ltd-3206520503?refId=IAIQN1Vd46Qb%2B8RwNjS9Rw%3D%3D&trackingId=FJ1OM7RW3LOWansHICAHFA%3D%3D&position=21&pageNum=0&trk=public_jobs_jserp-result_search-card',\n",
       " 'https://in.linkedin.com/company/taurus-contractors-pvt-ltd?trk=public_jobs_jserp-result_job-search-card-subtitle',\n",
       " 'https://in.linkedin.com/jobs/view/electrician-and-installation-engineer-at-waycool-foods-3284701331?refId=IAIQN1Vd46Qb%2B8RwNjS9Rw%3D%3D&trackingId=Xnni0hoR31uSTsWLqyeO0A%3D%3D&position=22&pageNum=0&trk=public_jobs_jserp-result_search-card',\n",
       " 'https://in.linkedin.com/company/waycoolfoods?trk=public_jobs_jserp-result_job-search-card-subtitle',\n",
       " 'https://in.linkedin.com/jobs/view/maintainence-engineers-pumps-compressors-at-oil-and-gas-3281122768?refId=IAIQN1Vd46Qb%2B8RwNjS9Rw%3D%3D&trackingId=1B%2BhaLfsdPp9WsulexPEgg%3D%3D&position=23&pageNum=0&trk=public_jobs_jserp-result_search-card',\n",
       " 'https://www.linkedin.com/company/oil-and-gas-job-posting?trk=public_jobs_jserp-result_job-search-card-subtitle',\n",
       " 'https://in.linkedin.com/jobs/view/testing-and-validation-engineer-at-gegadyne-energy-3292913335?refId=IAIQN1Vd46Qb%2B8RwNjS9Rw%3D%3D&trackingId=pgC1AgkhkBGbeuBwoPMe8g%3D%3D&position=24&pageNum=0&trk=public_jobs_jserp-result_search-card',\n",
       " 'https://in.linkedin.com/company/gegadyne?trk=public_jobs_jserp-result_job-search-card-subtitle',\n",
       " 'https://in.linkedin.com/jobs/view/mechanical-rotating-engineer-at-taurus-contractors-pvt-ltd-3280335679?refId=IAIQN1Vd46Qb%2B8RwNjS9Rw%3D%3D&trackingId=I99xojC1tCs1rR2N4xarbA%3D%3D&position=25&pageNum=0&trk=public_jobs_jserp-result_search-card',\n",
       " 'https://in.linkedin.com/company/taurus-contractors-pvt-ltd?trk=public_jobs_jserp-result_job-search-card-subtitle']"
      ]
     },
     "execution_count": 198,
     "metadata": {},
     "output_type": "execute_result"
    }
   ],
   "source": [
    "job_link"
   ]
  },
  {
   "cell_type": "code",
   "execution_count": 212,
   "id": "f44a2bd1",
   "metadata": {},
   "outputs": [],
   "source": [
    "apply_link = job_link[0::2]"
   ]
  },
  {
   "cell_type": "code",
   "execution_count": 213,
   "id": "89e0952b",
   "metadata": {
    "collapsed": true
   },
   "outputs": [
    {
     "data": {
      "text/plain": [
       "25"
      ]
     },
     "execution_count": 213,
     "metadata": {},
     "output_type": "execute_result"
    }
   ],
   "source": [
    "len(apply_link)"
   ]
  },
  {
   "cell_type": "code",
   "execution_count": 216,
   "id": "427fb0d2",
   "metadata": {},
   "outputs": [],
   "source": [
    "for i in apply_link:\n",
    "    driver.get(i)\n",
    "    time.sleep(10)"
   ]
  },
  {
   "cell_type": "code",
   "execution_count": 215,
   "id": "dbb8af31",
   "metadata": {},
   "outputs": [],
   "source": [
    "import time"
   ]
  },
  {
   "cell_type": "code",
   "execution_count": null,
   "id": "4018287e",
   "metadata": {},
   "outputs": [],
   "source": []
  }
 ],
 "metadata": {
  "kernelspec": {
   "display_name": "Python 3",
   "language": "python",
   "name": "python3"
  },
  "language_info": {
   "codemirror_mode": {
    "name": "ipython",
    "version": 3
   },
   "file_extension": ".py",
   "mimetype": "text/x-python",
   "name": "python",
   "nbconvert_exporter": "python",
   "pygments_lexer": "ipython3",
   "version": "3.8.8"
  }
 },
 "nbformat": 4,
 "nbformat_minor": 5
}
